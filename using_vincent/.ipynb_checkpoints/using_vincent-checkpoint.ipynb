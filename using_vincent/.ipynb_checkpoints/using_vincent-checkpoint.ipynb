{
 "cells": [
  {
   "cell_type": "code",
   "execution_count": 3,
   "metadata": {},
   "outputs": [],
   "source": [
    "# http://wrobstory.github.io/2013/04/python-maps-choropleth.html\n",
    "# http://wrobstory.github.io/2013/10/mapping-data-python.html\n",
    "    \n",
    "import vincent\n",
    "geo_data = [{'name': 'countries',\n",
    "             'url': 'world-countries.topo.json' ,\n",
    "             'feature': 'world-countries'}]\n",
    "\n",
    "vis = vincent.Map(geo_data=geo_data, scale=200)\n",
    "vis.to_json('vega.json')"
   ]
  },
  {
   "cell_type": "code",
   "execution_count": null,
   "metadata": {},
   "outputs": [],
   "source": []
  }
 ],
 "metadata": {
  "kernelspec": {
   "display_name": "Python 3",
   "language": "python",
   "name": "python3"
  },
  "language_info": {
   "codemirror_mode": {
    "name": "ipython",
    "version": 3
   },
   "file_extension": ".py",
   "mimetype": "text/x-python",
   "name": "python",
   "nbconvert_exporter": "python",
   "pygments_lexer": "ipython3",
   "version": "3.6.4"
  }
 },
 "nbformat": 4,
 "nbformat_minor": 2
}
